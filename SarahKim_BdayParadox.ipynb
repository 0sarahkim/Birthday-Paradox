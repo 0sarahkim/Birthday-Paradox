{
 "cells": [
  {
   "cell_type": "code",
   "execution_count": 138,
   "id": "f73f2eeb",
   "metadata": {},
   "outputs": [],
   "source": [
    "from random import randint\n",
    "import random\n",
    "from datetime import date\n",
    "from tqdm.notebook import tqdm "
   ]
  },
  {
   "cell_type": "code",
   "execution_count": 266,
   "id": "7252a855",
   "metadata": {},
   "outputs": [],
   "source": [
    "def bday_generator():\n",
    "    n = int(input(\"Enter a random number: \"))\n",
    "    \n",
    "    time = []\n",
    "    for i in range(12):\n",
    "        if i+1 == 1 or i+1 ==3 or i+1 ==5 or i+1 ==7 or i+1 ==8 or i+1 ==10 or i+1 ==12:\n",
    "            for j in range(31):\n",
    "                time.append(str(i+1)+'/'+str(j+1))\n",
    "        elif i+1 == 2:\n",
    "            for j in range(28):\n",
    "                time.append(str(i+1)+'/'+str(j+1))\n",
    "        elif i+1 == 4 or i+1 ==6 or i+1 ==9 or i+1 ==11:\n",
    "            for j in range(30):\n",
    "                time.append(str(i+1)+'/'+str(j+1))\n",
    "                \n",
    "    dates=[]\n",
    "    for _ in range(n):\n",
    "        random_day=randint(1,365)\n",
    "        dates.append(random_day) \n",
    "            \n",
    "    p = []\n",
    "    for i in dates:\n",
    "        p.append(random.choice(time))\n",
    "    \n",
    "    print(\"List of Bdays: \",p)    \n",
    "    \n",
    "    c = {}\n",
    "    for i in p:\n",
    "        if i not in c:\n",
    "            c[i] = 1\n",
    "        else:\n",
    "            c[i] += 1\n",
    "    \n",
    "    tmp = []\n",
    "    for k,v in c.items():\n",
    "        if v >= 2:\n",
    "            tmp.append(k)\n",
    "            \n",
    "    print(\"Coinciding Bdays: \", tmp)\n",
    "    \n",
    "###\n",
    "    total_num = 0\n",
    "    for k in tqdm (range(100000)):\n",
    "        \n",
    "        tmp_date = []\n",
    "        for _ in range(n):\n",
    "            random_day=randint(1,365)\n",
    "            tmp_date.append(random_day)\n",
    "\n",
    "        p = []\n",
    "        for i in tmp_date:\n",
    "            p.append(random.choice(time))\n",
    "\n",
    "        c = {}\n",
    "        for i in p:\n",
    "            if i not in c:\n",
    "                c[i] = 1\n",
    "            else:\n",
    "                c[i] += 1\n",
    "                \n",
    "        tmp_n = 0\n",
    "        for k,v in c.items():\n",
    "            if v >= 2:\n",
    "                tmp_n += v\n",
    "                 \n",
    "        if tmp_n > 0:\n",
    "            total_num += 1\n",
    "        \n",
    "                \n",
    "    return total_num / (100000)\n",
    "            \n",
    "  "
   ]
  },
  {
   "cell_type": "code",
   "execution_count": 268,
   "id": "73422e88",
   "metadata": {},
   "outputs": [
    {
     "name": "stdout",
     "output_type": "stream",
     "text": [
      "Enter a random number: 50\n",
      "List of Bdays:  ['11/12', '4/16', '7/1', '4/18', '3/21', '7/10', '4/13', '4/19', '7/13', '11/2', '12/24', '7/17', '10/25', '2/4', '12/3', '9/12', '2/7', '8/7', '5/31', '1/2', '4/11', '10/4', '10/30', '12/1', '5/18', '9/20', '3/24', '10/14', '3/10', '10/28', '2/12', '4/5', '8/2', '9/6', '5/28', '2/27', '12/3', '11/22', '9/20', '2/24', '3/16', '10/16', '4/6', '3/6', '4/25', '9/13', '8/19', '4/20', '10/22', '1/7']\n",
      "Coinciding Bdays:  ['12/3', '9/20']\n"
     ]
    },
    {
     "data": {
      "application/vnd.jupyter.widget-view+json": {
       "model_id": "d79e72fdac1443e78231d0ffa59881ba",
       "version_major": 2,
       "version_minor": 0
      },
      "text/plain": [
       "  0%|          | 0/100000 [00:00<?, ?it/s]"
      ]
     },
     "metadata": {},
     "output_type": "display_data"
    },
    {
     "data": {
      "text/plain": [
       "0.97064"
      ]
     },
     "execution_count": 268,
     "metadata": {},
     "output_type": "execute_result"
    }
   ],
   "source": [
    "bday_generator()"
   ]
  },
  {
   "cell_type": "code",
   "execution_count": null,
   "id": "50866af0",
   "metadata": {},
   "outputs": [],
   "source": []
  }
 ],
 "metadata": {
  "kernelspec": {
   "display_name": "Python 3 (ipykernel)",
   "language": "python",
   "name": "python3"
  },
  "language_info": {
   "codemirror_mode": {
    "name": "ipython",
    "version": 3
   },
   "file_extension": ".py",
   "mimetype": "text/x-python",
   "name": "python",
   "nbconvert_exporter": "python",
   "pygments_lexer": "ipython3",
   "version": "3.9.7"
  }
 },
 "nbformat": 4,
 "nbformat_minor": 5
}
